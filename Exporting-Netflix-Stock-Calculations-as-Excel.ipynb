{
 "cells": [
  {
   "cell_type": "code",
   "execution_count": 3,
   "metadata": {},
   "outputs": [],
   "source": [
    "import pandas as pd"
   ]
  },
  {
   "cell_type": "code",
   "execution_count": 4,
   "metadata": {},
   "outputs": [],
   "source": [
    "ticker = \"NFLX\""
   ]
  },
  {
   "cell_type": "code",
   "execution_count": 5,
   "metadata": {},
   "outputs": [],
   "source": [
    "# same as previous, just use the pct_change function, and the to_frame\n",
    "def read_annual_data(csv_file, ticker):\n",
    "    data = pd.read_csv(csv_file, index_col=0)\n",
    "    data = data[ticker]\n",
    "    data = data.to_frame()\n",
    "    # add column called percent change, to keep original data\n",
    "    # detail in number we want to look at\n",
    "    data['%-chg'] = data.pct_change()\n",
    "    data = data.loc[2009:2019]\n",
    "    return data"
   ]
  },
  {
   "cell_type": "code",
   "execution_count": 6,
   "metadata": {},
   "outputs": [],
   "source": [
    "# same as previous, just use the pct_change function, and the to_frame\n",
    "def read_quarterly_data(csv_file, ticker):\n",
    "    data = pd.read_csv(csv_file, index_col=0, parse_dates=True)\n",
    "    data = data[ticker]\n",
    "    data = data.resample('Y', convention='end').agg('mean')\n",
    "    data = data.to_frame()\n",
    "    # add column called percent change, to keep original data\n",
    "    # detail in number we want to look at\n",
    "    data['%-chg'] = data[ticker].pct_change()\n",
    "    data = data.loc['2009-01-01':'2019-12-31']\n",
    "    # same as before\n",
    "    data.index = data.index.strftime(\"%Y\")\n",
    "    return data"
   ]
  },
  {
   "cell_type": "code",
   "execution_count": 7,
   "metadata": {},
   "outputs": [],
   "source": [
    "eps = read_annual_data(\"50-eps.csv\", ticker)\n",
    "fcf = read_annual_data(\"50-fcf.csv\", ticker)\n",
    "rev = read_annual_data(\"50-rev.csv\", ticker)\n",
    "bvps = read_quarterly_data(\"50-bvps.csv\", ticker)"
   ]
  },
  {
   "cell_type": "code",
   "execution_count": 8,
   "metadata": {},
   "outputs": [],
   "source": [
    "def add_annual_data_2col(writer, df, sheet_name):\n",
    "    df.to_excel(writer, sheet_name=sheet_name)\n",
    "    workbook = writer.book\n",
    "    worksheet = writer.sheets[sheet_name]\n",
    "\n",
    "    # Create a new chart object.\n",
    "    chart = workbook.add_chart({'type': 'line'})\n",
    "\n",
    "    # Add a series to the chart.\n",
    "    chart.add_series({\n",
    "        'name': sheet_name,\n",
    "        'categories': [sheet_name, 1, 0, 11, 0],\n",
    "        'values': [sheet_name, 1, 1, 11, 1],\n",
    "    })\n",
    "    \n",
    "    # Create a new column chart.\n",
    "    column_chart = workbook.add_chart({'type': 'column'})\n",
    "    \n",
    "    # Add a series to the chart.\n",
    "    column_chart.add_series({\n",
    "        'name': '%-chg',\n",
    "        # categories and values same just values is column 2 instead of \n",
    "        # 1\n",
    "        'categories': [sheet_name, 1, 0, 11, 0],\n",
    "        'values': [sheet_name, 1, 2, 11, 2],\n",
    "        #use opposite y axis becuase one is percentage and \n",
    "        # one is actual values\n",
    "        'y2_axis': True,\n",
    "    })\n",
    "    # combine 2nd y axis with original, column chart with chart\n",
    "    chart.combine(column_chart)\n",
    "    chart.set_title({'name': sheet_name})\n",
    "    chart.set_x_axis({'name': 'Date'})\n",
    "    chart.set_y_axis({'name': 'Value'})\n",
    "    column_chart.set_y2_axis({'name': '%-chg'})\n",
    "    \n",
    "    #to set the labels on x axis not on 0 and rotate by 45\n",
    "    chart.set_x_axis({\n",
    "        'label_position': 'low',\n",
    "        'num_font': {'rotation': 45}\n",
    "    })\n",
    "    \n",
    "    #Insert the chart into the worksheet.\n",
    "    worksheet.insert_chart('D1', chart)"
   ]
  },
  {
   "cell_type": "code",
   "execution_count": 9,
   "metadata": {},
   "outputs": [],
   "source": [
    "writer = pd.ExcelWriter('data4.xlsx', engine='xlsxwriter')\n",
    "\n",
    "add_annual_data_2col(writer, rev, 'Revenue')\n",
    "add_annual_data_2col(writer, eps, 'EPS')\n",
    "add_annual_data_2col(writer, fcf, 'FCF')\n",
    "add_annual_data_2col(writer, bvps, 'BVPS')\n",
    "\n",
    "writer.close()"
   ]
  },
  {
   "cell_type": "markdown",
   "metadata": {},
   "source": [
    "It shows in FCF that Netflix has no FREE cash flow"
   ]
  },
  {
   "cell_type": "markdown",
   "metadata": {},
   "source": [
    "A company with negative free cash flow indicates an inability to generate enough cash to support the business. Free cash flow tracks the cash a company has left over after meeting its operating expenses."
   ]
  }
 ],
 "metadata": {
  "kernelspec": {
   "display_name": "Python 3 (ipykernel)",
   "language": "python",
   "name": "python3"
  },
  "language_info": {
   "codemirror_mode": {
    "name": "ipython",
    "version": 3
   },
   "file_extension": ".py",
   "mimetype": "text/x-python",
   "name": "python",
   "nbconvert_exporter": "python",
   "pygments_lexer": "ipython3",
   "version": "3.10.9"
  }
 },
 "nbformat": 4,
 "nbformat_minor": 4
}
